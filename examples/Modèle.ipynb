{
 "cells": [
  {
   "cell_type": "code",
   "execution_count": 1,
   "id": "af094a67",
   "metadata": {},
   "outputs": [],
   "source": [
    "import geopandas as gpd\n",
    "import matplotlib.pyplot as plt\n",
    "import numpy as np\n",
    "import pandas as pd\n",
    "from sklearn.metrics import mean_squared_error\n",
    "from sklearn.model_selection import train_test_split\n",
    "from sklearn.pipeline import make_pipeline\n",
    "from sklearn.preprocessing import StandardScaler\n",
    "\n",
    "from velosafe.models import grid_search, stratified_sample, save_model"
   ]
  },
  {
   "cell_type": "markdown",
   "id": "d8b0fdce",
   "metadata": {},
   "source": [
    "## Data loading"
   ]
  },
  {
   "cell_type": "code",
   "execution_count": 2,
   "id": "d9005fb2",
   "metadata": {},
   "outputs": [],
   "source": [
    "df = pd.read_csv(\"../data/training_data.csv\")"
   ]
  },
  {
   "cell_type": "markdown",
   "id": "c6c89589",
   "metadata": {},
   "source": [
    "## Data preprocessing"
   ]
  },
  {
   "cell_type": "markdown",
   "id": "70493866",
   "metadata": {},
   "source": [
    "### Filter features"
   ]
  },
  {
   "cell_type": "code",
   "execution_count": 3,
   "id": "51740cb4",
   "metadata": {},
   "outputs": [
    {
     "data": {
      "text/html": [
       "<div>\n",
       "<style scoped>\n",
       "    .dataframe tbody tr th:only-of-type {\n",
       "        vertical-align: middle;\n",
       "    }\n",
       "\n",
       "    .dataframe tbody tr th {\n",
       "        vertical-align: top;\n",
       "    }\n",
       "\n",
       "    .dataframe thead th {\n",
       "        text-align: right;\n",
       "    }\n",
       "</style>\n",
       "<table border=\"1\" class=\"dataframe\">\n",
       "  <thead>\n",
       "    <tr style=\"text-align: right;\">\n",
       "      <th></th>\n",
       "      <th>population</th>\n",
       "      <th>area</th>\n",
       "      <th>accident_num</th>\n",
       "      <th>length</th>\n",
       "      <th>ACCOTEMENT REVETU HORS CVCB</th>\n",
       "      <th>AMENAGEMENT MIXTES PIETON VELO HORS VOIE VERTE</th>\n",
       "      <th>AUTRE</th>\n",
       "      <th>BANDE CYCLABLE</th>\n",
       "      <th>CHAUSSEE A VOIE CENTRALE BANALISEE</th>\n",
       "      <th>COULOIR BUS+VELO</th>\n",
       "      <th>DOUBLE SENS CYCLABLE BANDE</th>\n",
       "      <th>DOUBLE SENS CYCLABLE NON MATERIALISE</th>\n",
       "      <th>DOUBLE SENS CYCLABLE PISTE</th>\n",
       "      <th>GOULOTTE</th>\n",
       "      <th>PISTE CYCLABLE</th>\n",
       "      <th>VELO RUE</th>\n",
       "      <th>VOIE VERTE</th>\n",
       "    </tr>\n",
       "  </thead>\n",
       "  <tbody>\n",
       "    <tr>\n",
       "      <th>0</th>\n",
       "      <td>234</td>\n",
       "      <td>1355</td>\n",
       "      <td>0.0</td>\n",
       "      <td>1625.607995</td>\n",
       "      <td>0.0</td>\n",
       "      <td>1625.607995</td>\n",
       "      <td>0.000000</td>\n",
       "      <td>0.0</td>\n",
       "      <td>0.0</td>\n",
       "      <td>0.0</td>\n",
       "      <td>0.0</td>\n",
       "      <td>0.0</td>\n",
       "      <td>0.0</td>\n",
       "      <td>0.0</td>\n",
       "      <td>0.000000</td>\n",
       "      <td>0.000000</td>\n",
       "      <td>0.0</td>\n",
       "    </tr>\n",
       "    <tr>\n",
       "      <th>1</th>\n",
       "      <td>375</td>\n",
       "      <td>1654</td>\n",
       "      <td>0.0</td>\n",
       "      <td>41750.307169</td>\n",
       "      <td>0.0</td>\n",
       "      <td>0.000000</td>\n",
       "      <td>41750.307169</td>\n",
       "      <td>0.0</td>\n",
       "      <td>0.0</td>\n",
       "      <td>0.0</td>\n",
       "      <td>0.0</td>\n",
       "      <td>0.0</td>\n",
       "      <td>0.0</td>\n",
       "      <td>0.0</td>\n",
       "      <td>0.000000</td>\n",
       "      <td>0.000000</td>\n",
       "      <td>0.0</td>\n",
       "    </tr>\n",
       "    <tr>\n",
       "      <th>2</th>\n",
       "      <td>1242</td>\n",
       "      <td>2334</td>\n",
       "      <td>0.0</td>\n",
       "      <td>20727.046260</td>\n",
       "      <td>0.0</td>\n",
       "      <td>0.000000</td>\n",
       "      <td>0.000000</td>\n",
       "      <td>0.0</td>\n",
       "      <td>0.0</td>\n",
       "      <td>0.0</td>\n",
       "      <td>0.0</td>\n",
       "      <td>0.0</td>\n",
       "      <td>0.0</td>\n",
       "      <td>0.0</td>\n",
       "      <td>19289.721231</td>\n",
       "      <td>1437.325029</td>\n",
       "      <td>0.0</td>\n",
       "    </tr>\n",
       "    <tr>\n",
       "      <th>3</th>\n",
       "      <td>1318</td>\n",
       "      <td>3016</td>\n",
       "      <td>0.0</td>\n",
       "      <td>70.520285</td>\n",
       "      <td>0.0</td>\n",
       "      <td>0.000000</td>\n",
       "      <td>70.520285</td>\n",
       "      <td>0.0</td>\n",
       "      <td>0.0</td>\n",
       "      <td>0.0</td>\n",
       "      <td>0.0</td>\n",
       "      <td>0.0</td>\n",
       "      <td>0.0</td>\n",
       "      <td>0.0</td>\n",
       "      <td>0.000000</td>\n",
       "      <td>0.000000</td>\n",
       "      <td>0.0</td>\n",
       "    </tr>\n",
       "    <tr>\n",
       "      <th>4</th>\n",
       "      <td>319</td>\n",
       "      <td>1022</td>\n",
       "      <td>0.0</td>\n",
       "      <td>4816.411348</td>\n",
       "      <td>0.0</td>\n",
       "      <td>4816.411348</td>\n",
       "      <td>0.000000</td>\n",
       "      <td>0.0</td>\n",
       "      <td>0.0</td>\n",
       "      <td>0.0</td>\n",
       "      <td>0.0</td>\n",
       "      <td>0.0</td>\n",
       "      <td>0.0</td>\n",
       "      <td>0.0</td>\n",
       "      <td>0.000000</td>\n",
       "      <td>0.000000</td>\n",
       "      <td>0.0</td>\n",
       "    </tr>\n",
       "  </tbody>\n",
       "</table>\n",
       "</div>"
      ],
      "text/plain": [
       "   population  area  accident_num        length  ACCOTEMENT REVETU HORS CVCB  \\\n",
       "0         234  1355           0.0   1625.607995                          0.0   \n",
       "1         375  1654           0.0  41750.307169                          0.0   \n",
       "2        1242  2334           0.0  20727.046260                          0.0   \n",
       "3        1318  3016           0.0     70.520285                          0.0   \n",
       "4         319  1022           0.0   4816.411348                          0.0   \n",
       "\n",
       "   AMENAGEMENT MIXTES PIETON VELO HORS VOIE VERTE         AUTRE  \\\n",
       "0                                     1625.607995      0.000000   \n",
       "1                                        0.000000  41750.307169   \n",
       "2                                        0.000000      0.000000   \n",
       "3                                        0.000000     70.520285   \n",
       "4                                     4816.411348      0.000000   \n",
       "\n",
       "   BANDE CYCLABLE  CHAUSSEE A VOIE CENTRALE BANALISEE  COULOIR BUS+VELO  \\\n",
       "0             0.0                                 0.0               0.0   \n",
       "1             0.0                                 0.0               0.0   \n",
       "2             0.0                                 0.0               0.0   \n",
       "3             0.0                                 0.0               0.0   \n",
       "4             0.0                                 0.0               0.0   \n",
       "\n",
       "   DOUBLE SENS CYCLABLE BANDE  DOUBLE SENS CYCLABLE NON MATERIALISE  \\\n",
       "0                         0.0                                   0.0   \n",
       "1                         0.0                                   0.0   \n",
       "2                         0.0                                   0.0   \n",
       "3                         0.0                                   0.0   \n",
       "4                         0.0                                   0.0   \n",
       "\n",
       "   DOUBLE SENS CYCLABLE PISTE  GOULOTTE  PISTE CYCLABLE     VELO RUE  \\\n",
       "0                         0.0       0.0        0.000000     0.000000   \n",
       "1                         0.0       0.0        0.000000     0.000000   \n",
       "2                         0.0       0.0    19289.721231  1437.325029   \n",
       "3                         0.0       0.0        0.000000     0.000000   \n",
       "4                         0.0       0.0        0.000000     0.000000   \n",
       "\n",
       "   VOIE VERTE  \n",
       "0         0.0  \n",
       "1         0.0  \n",
       "2         0.0  \n",
       "3         0.0  \n",
       "4         0.0  "
      ]
     },
     "execution_count": 3,
     "metadata": {},
     "output_type": "execute_result"
    }
   ],
   "source": [
    "FEATURES = [\n",
    "    \"population\",\n",
    "    \"area\",\n",
    "    \"accident_num\",\n",
    "    \"length\",\n",
    "    \"ACCOTEMENT REVETU HORS CVCB\",\n",
    "    \"AMENAGEMENT MIXTES PIETON VELO HORS VOIE VERTE\",\n",
    "    \"AUTRE\",\n",
    "    \"BANDE CYCLABLE\",\n",
    "    \"CHAUSSEE A VOIE CENTRALE BANALISEE\",\n",
    "    \"COULOIR BUS+VELO\",\n",
    "    \"DOUBLE SENS CYCLABLE BANDE\",\n",
    "    \"DOUBLE SENS CYCLABLE NON MATERIALISE\",\n",
    "    \"DOUBLE SENS CYCLABLE PISTE\",\n",
    "    \"GOULOTTE\",\n",
    "    \"PISTE CYCLABLE\",\n",
    "    \"VELO RUE\",\n",
    "    \"VOIE VERTE\",\n",
    "]\n",
    "\n",
    "df = df[FEATURES]\n",
    "df.head()"
   ]
  },
  {
   "cell_type": "markdown",
   "id": "bec52ba5",
   "metadata": {},
   "source": [
    "### Train/test split"
   ]
  },
  {
   "cell_type": "code",
   "execution_count": 4,
   "id": "ec515c0d",
   "metadata": {},
   "outputs": [],
   "source": [
    "df_train, df_test = stratified_sample(df, 0.15)"
   ]
  },
  {
   "cell_type": "code",
   "execution_count": 5,
   "id": "e34d3a55",
   "metadata": {},
   "outputs": [],
   "source": [
    "X_train, y_train = df_train[df_train.columns.difference([\"accident_num\"])], df_train[\"accident_num\"].values\n",
    "X_test, y_test = df_test[df_test.columns.difference([\"accident_num\"])], df_test[\"accident_num\"].values"
   ]
  },
  {
   "cell_type": "markdown",
   "id": "bbeeecc2",
   "metadata": {},
   "source": [
    "## Model selection"
   ]
  },
  {
   "cell_type": "code",
   "execution_count": 6,
   "id": "fd38cfe2",
   "metadata": {},
   "outputs": [],
   "source": [
    "from sklearn.linear_model import LinearRegression\n",
    "from sklearn.ensemble import RandomForestRegressor"
   ]
  },
  {
   "cell_type": "code",
   "execution_count": 7,
   "id": "2f3c3ced",
   "metadata": {},
   "outputs": [
    {
     "data": {
      "text/html": [
       "<div>\n",
       "<style scoped>\n",
       "    .dataframe tbody tr th:only-of-type {\n",
       "        vertical-align: middle;\n",
       "    }\n",
       "\n",
       "    .dataframe tbody tr th {\n",
       "        vertical-align: top;\n",
       "    }\n",
       "\n",
       "    .dataframe thead th {\n",
       "        text-align: right;\n",
       "    }\n",
       "</style>\n",
       "<table border=\"1\" class=\"dataframe\">\n",
       "  <thead>\n",
       "    <tr style=\"text-align: right;\">\n",
       "      <th></th>\n",
       "      <th>params</th>\n",
       "      <th>mean_test_score</th>\n",
       "      <th>std_test_score</th>\n",
       "      <th>mean_train_score</th>\n",
       "      <th>std_train_score</th>\n",
       "    </tr>\n",
       "  </thead>\n",
       "  <tbody>\n",
       "    <tr>\n",
       "      <th>0</th>\n",
       "      <td>{'fit_intercept': True}</td>\n",
       "      <td>-2.167513</td>\n",
       "      <td>0.466865</td>\n",
       "      <td>-1.914076</td>\n",
       "      <td>0.088352</td>\n",
       "    </tr>\n",
       "    <tr>\n",
       "      <th>1</th>\n",
       "      <td>{'fit_intercept': False}</td>\n",
       "      <td>-2.201164</td>\n",
       "      <td>0.452614</td>\n",
       "      <td>-1.950693</td>\n",
       "      <td>0.089598</td>\n",
       "    </tr>\n",
       "  </tbody>\n",
       "</table>\n",
       "</div>"
      ],
      "text/plain": [
       "                     params  mean_test_score  std_test_score  \\\n",
       "0   {'fit_intercept': True}        -2.167513        0.466865   \n",
       "1  {'fit_intercept': False}        -2.201164        0.452614   \n",
       "\n",
       "   mean_train_score  std_train_score  \n",
       "0         -1.914076         0.088352  \n",
       "1         -1.950693         0.089598  "
      ]
     },
     "execution_count": 7,
     "metadata": {},
     "output_type": "execute_result"
    }
   ],
   "source": [
    "linear_model, linear_perf = grid_search(\n",
    "    LinearRegression(), {\"fit_intercept\": [True, False]}, X_train, y_train, scaler=StandardScaler()\n",
    ")\n",
    "linear_perf"
   ]
  },
  {
   "cell_type": "code",
   "execution_count": 17,
   "id": "03c8b5a2",
   "metadata": {},
   "outputs": [],
   "source": [
    "random_forest_model, random_forest_perf = grid_search(\n",
    "    RandomForestRegressor(),\n",
    "    {\"n_estimators\": [100, 200, 500], \"max_depth\": [None, 20]},\n",
    "    X_train,\n",
    "    y_train,\n",
    "    scaler=StandardScaler(),\n",
    ")\n",
    "random_forest_perf"
   ]
  },
  {
   "cell_type": "markdown",
   "id": "c96ac7c1",
   "metadata": {},
   "source": [
    "## Model evaluation"
   ]
  },
  {
   "cell_type": "code",
   "execution_count": 12,
   "id": "b8d0de85",
   "metadata": {},
   "outputs": [],
   "source": [
    "best_model = random_forest_model"
   ]
  },
  {
   "cell_type": "code",
   "execution_count": 13,
   "id": "dbeecf0d",
   "metadata": {
    "scrolled": true
   },
   "outputs": [
    {
     "data": {
      "text/plain": [
       "1.2718304841136654"
      ]
     },
     "execution_count": 13,
     "metadata": {},
     "output_type": "execute_result"
    }
   ],
   "source": [
    "mean_squared_error(y_test, best_model.predict(X_test))"
   ]
  },
  {
   "cell_type": "code",
   "execution_count": 14,
   "id": "9c3080f9",
   "metadata": {},
   "outputs": [
    {
     "data": {
      "text/plain": [
       "(-1.0, 15.0)"
      ]
     },
     "execution_count": 14,
     "metadata": {},
     "output_type": "execute_result"
    },
    {
     "data": {
      "image/png": "[encoded data removed]",
      "text/plain": [
       "<Figure size 640x480 with 1 Axes>"
      ]
     },
     "metadata": {},
     "output_type": "display_data"
    }
   ],
   "source": [
    "plt.plot(y_test, y_test, color=\"gray\", alpha=0.2)\n",
    "plt.scatter(y_test, best_model.predict(X_test), s=3, alpha=0.6)\n",
    "plt.xlabel(\"True\")\n",
    "plt.ylabel(\"Predicted\")\n",
    "plt.xlim(-1, 15)\n",
    "plt.ylim(-1, 15)"
   ]
  }
 ],
 "metadata": {
  "kernelspec": {
   "display_name": "velosafe",
   "language": "python",
   "name": "velosafe"
  },
  "language_info": {
   "codemirror_mode": {
    "name": "ipython",
    "version": 3
   },
   "file_extension": ".py",
   "mimetype": "text/x-python",
   "name": "python",
   "nbconvert_exporter": "python",
   "pygments_lexer": "ipython3",
   "version": "3.10.9"
  }
 },
 "nbformat": 4,
 "nbformat_minor": 5
}
