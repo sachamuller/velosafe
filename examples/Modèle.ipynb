{
 "cells": [
  {
   "cell_type": "code",
   "execution_count": null,
   "id": "af094a67",
   "metadata": {},
   "outputs": [],
   "source": [
    "from sklearn.model_selection import train_test_split\n",
    "import pandas as pd\n",
    "import numpy as np\n",
    "from sklearn.preprocessing import StandardScaler\n",
    "import geopandas as gpd"
   ]
  },
  {
   "cell_type": "markdown",
   "id": "cf6f3337",
   "metadata": {},
   "source": [
    "## Data loading"
   ]
  },
  {
   "cell_type": "code",
   "execution_count": null,
   "id": "21c33721",
   "metadata": {},
   "outputs": [],
   "source": [
    "df_lucie = pd.read_csv(\"../data/Dylan.csv\").drop(columns=\"Unnamed: 0\")"
   ]
  },
  {
   "cell_type": "code",
   "execution_count": null,
   "id": "6f228d6f",
   "metadata": {},
   "outputs": [],
   "source": [
    "df_comm = pd.read_csv(\"../data/correspondance-code-insee-code-postal.csv\", sep=\";\")"
   ]
  },
  {
   "cell_type": "code",
   "execution_count": null,
   "id": "8db9debf",
   "metadata": {},
   "outputs": [],
   "source": [
    "df_comm = df_comm[[\"POPULATION\", \"INSEE_COM\", \"X_CENTROID\", \"Y_CENTROID\", \"SUPERFICIE\"]].rename(\n",
    "    columns={\n",
    "        \"POPULATION\": \"population\",\n",
    "        \"INSEE_COM\": \"code_commune\",\n",
    "        \"X_CENTROID\": \"lat\",\n",
    "        \"Y_CENTROID\": \"long\",\n",
    "        \"SUPERFICIE\": \"area\",\n",
    "    }\n",
    ").drop_duplicates()"
   ]
  },
  {
   "cell_type": "code",
   "execution_count": null,
   "id": "0e6d48be",
   "metadata": {},
   "outputs": [],
   "source": [
    "df_lucie = (\n",
    "    df_lucie.groupby(\"com\").count().reset_index().rename(columns={\"com\": \"code_commune\", \"Num_Acc\": \"accident_num\"})\n",
    ")\n",
    "df_lucie = df_lucie.drop(columns=\"piste_cyclable\")"
   ]
  },
  {
   "cell_type": "code",
   "execution_count": null,
   "id": "a4efead3",
   "metadata": {},
   "outputs": [],
   "source": [
    "df = df_comm.merge(df_lucie, how=\"left\")\n",
    "df[\"accident_num\"] = df[\"accident_num\"].fillna(0)"
   ]
  },
  {
   "cell_type": "code",
   "execution_count": null,
   "id": "fbaee91d",
   "metadata": {},
   "outputs": [],
   "source": [
    "# Données perdues\n",
    "lost_data_num = df_lucie[\n",
    "    df_lucie.code_commune.isin(set(df_lucie.code_commune) - set(df_comm.code_commune))\n",
    "].accident_num.sum()\n",
    "print(f\"Données perdues: {lost_data_num}\")"
   ]
  },
  {
   "cell_type": "markdown",
   "id": "c6c89589",
   "metadata": {},
   "source": [
    "## Data preprocessing"
   ]
  },
  {
   "cell_type": "markdown",
   "id": "70493866",
   "metadata": {},
   "source": [
    "### Filter features"
   ]
  },
  {
   "cell_type": "code",
   "execution_count": null,
   "id": "51740cb4",
   "metadata": {},
   "outputs": [],
   "source": [
    "FEATURES = [\"population\", \"area\", \"accident_num\"]\n",
    "\n",
    "df = df[FEATURES]\n",
    "df.head()"
   ]
  },
  {
   "cell_type": "markdown",
   "id": "bec52ba5",
   "metadata": {},
   "source": [
    "### Train/test split"
   ]
  },
  {
   "cell_type": "code",
   "execution_count": null,
   "id": "d298c248",
   "metadata": {},
   "outputs": [],
   "source": [
    "def stratified_sample(df, test_size):\n",
    "    hist = np.histogram(df[\"accident_num\"], bins=\"doane\")\n",
    "    df[\"bin\"] = np.fmin(np.digitize(df[\"accident_num\"], hist[1]), len(hist[0]))\n",
    "    df_test = df.groupby(\"bin\", group_keys=False).apply(lambda x: x.sample(frac=test_size, random_state=42))\n",
    "    df_train = df.drop(index=df_test.index)\n",
    "\n",
    "    # Drop bin col\n",
    "    df = df.drop(columns=\"bin\")\n",
    "    df_train = df_train.drop(columns=\"bin\")\n",
    "    df_test = df_test.drop(columns=\"bin\")\n",
    "    return df_train, df_test"
   ]
  },
  {
   "cell_type": "code",
   "execution_count": null,
   "id": "ec515c0d",
   "metadata": {},
   "outputs": [],
   "source": [
    "df_train, df_test = stratified_sample(df, 0.15)"
   ]
  },
  {
   "cell_type": "code",
   "execution_count": null,
   "id": "e34d3a55",
   "metadata": {},
   "outputs": [],
   "source": [
    "X_train, y_train = df_train[df_train.columns.difference([\"accident_num\"])], df_train[\"accident_num\"].values\n",
    "X_test, y_test = df_test[df_test.columns.difference([\"accident_num\"])], df_test[\"accident_num\"].values"
   ]
  },
  {
   "cell_type": "markdown",
   "id": "98ced8ff",
   "metadata": {},
   "source": [
    "### Scaling"
   ]
  },
  {
   "cell_type": "code",
   "execution_count": null,
   "id": "bd9a652f",
   "metadata": {},
   "outputs": [],
   "source": [
    "scaler = StandardScaler()"
   ]
  },
  {
   "cell_type": "code",
   "execution_count": null,
   "id": "04547bd3",
   "metadata": {},
   "outputs": [],
   "source": [
    "NUMERIC_FEATURES = [\"area\", \"population\"]"
   ]
  },
  {
   "cell_type": "code",
   "execution_count": null,
   "id": "134ceb5b",
   "metadata": {},
   "outputs": [],
   "source": [
    "pd.options.mode.chained_assignment = None\n",
    "X_train[NUMERIC_FEATURES] = scaler.fit_transform(X_train[NUMERIC_FEATURES])\n",
    "X_test[NUMERIC_FEATURES] = scaler.transform(X_test[NUMERIC_FEATURES])\n",
    "pd.options.mode.chained_assignment = \"warn\""
   ]
  },
  {
   "cell_type": "markdown",
   "id": "bbeeecc2",
   "metadata": {},
   "source": [
    "## Model selection"
   ]
  },
  {
   "cell_type": "code",
   "execution_count": null,
   "id": "fd38cfe2",
   "metadata": {},
   "outputs": [],
   "source": [
    "from sklearn.model_selection import GridSearchCV\n",
    "from sklearn.base import BaseEstimator\n",
    "from sklearn.linear_model import LinearRegression"
   ]
  },
  {
   "cell_type": "code",
   "execution_count": null,
   "id": "a82a6921",
   "metadata": {},
   "outputs": [],
   "source": [
    "def grid_search(\n",
    "    model: BaseEstimator,\n",
    "    params: dict[str, list],\n",
    "    X: pd.DataFrame | np.ndarray,\n",
    "    y: pd.DataFrame | np.ndarray,\n",
    "    scoring=\"neg_root_mean_squared_error\",\n",
    ") -> tuple[GridSearchCV, pd.DataFrame]:\n",
    "    \"\"\"\n",
    "    Perform a grid search.\n",
    "\n",
    "    :param model: The model to run the grid search on\n",
    "    :param params: The parameters in the grid search.\n",
    "    :param X: The independant variables.\n",
    "    :param y: The dependant variable.\n",
    "    :param scoring: a scikit_learn scoring function.\n",
    "\n",
    "    Returns:\n",
    "        A tuple containing the fitted GridSearchCV estimator, and a formatted dataframe of results.\n",
    "    \"\"\"\n",
    "    grid_model = GridSearchCV(estimator=model, param_grid=params, n_jobs=-1, return_train_score=True, scoring=scoring)\n",
    "    grid_model.fit(X, y)\n",
    "    return (\n",
    "        grid_model,\n",
    "        pd.DataFrame(grid_model.cv_results_).sort_values(\"rank_test_score\")[\n",
    "            [\"params\", \"mean_test_score\", \"std_test_score\", \"mean_train_score\", \"std_train_score\"]\n",
    "        ],\n",
    "    )"
   ]
  },
  {
   "cell_type": "code",
   "execution_count": null,
   "id": "2f3c3ced",
   "metadata": {},
   "outputs": [],
   "source": [
    "linear_model, linear_perf = grid_search(LinearRegression(), {\"fit_intercept\": [True, False]}, X_train, y_train)"
   ]
  },
  {
   "cell_type": "code",
   "execution_count": null,
   "id": "25ee09b5",
   "metadata": {},
   "outputs": [],
   "source": [
    "linear_perf"
   ]
  }
 ],
 "metadata": {
  "kernelspec": {
   "display_name": "velosafe",
   "language": "python",
   "name": "velosafe"
  },
  "language_info": {
   "codemirror_mode": {
    "name": "ipython",
    "version": 3
   },
   "file_extension": ".py",
   "mimetype": "text/x-python",
   "name": "python",
   "nbconvert_exporter": "python",
   "pygments_lexer": "ipython3",
   "version": "3.10.9 (main, Dec  7 2022, 14:27:40) [GCC 12.2.1 20221121 (Red Hat 12.2.1-4)]"
  }
 },
 "nbformat": 4,
 "nbformat_minor": 5
}
