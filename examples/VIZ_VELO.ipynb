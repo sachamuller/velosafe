{
 "cells": [
  {
   "cell_type": "code",
   "execution_count": 80,
   "id": "d4f4d042",
   "metadata": {},
   "outputs": [],
   "source": [
    "import fiona\n",
    "import pandas as pd\n",
    "import os \n",
    "import numpy as np\n",
    "import matplotlib.pyplot as plt \n",
    "import seaborn as sns\n",
    "import plotly.express as px\n",
    "import datetime\n",
    "\n",
    "from sklearn.impute import SimpleImputer"
   ]
  },
  {
   "cell_type": "code",
   "execution_count": 81,
   "id": "83c6a2ed",
   "metadata": {},
   "outputs": [],
   "source": [
    "path = os.getcwd() "
   ]
  },
  {
   "cell_type": "code",
   "execution_count": 82,
   "id": "a498715a",
   "metadata": {},
   "outputs": [],
   "source": [
    "file_name = '/Users/durantonlucie/Desktop/no_missing_values_data_viz_velo 2.csv'"
   ]
  },
  {
   "cell_type": "code",
   "execution_count": 83,
   "id": "e22e3a2f",
   "metadata": {},
   "outputs": [],
   "source": [
    "df= pd.read_csv(file_name, sep = ',')"
   ]
  },
  {
   "cell_type": "code",
   "execution_count": 84,
   "id": "7243d214",
   "metadata": {},
   "outputs": [
    {
     "data": {
      "text/html": [
       "<div>\n",
       "<style scoped>\n",
       "    .dataframe tbody tr th:only-of-type {\n",
       "        vertical-align: middle;\n",
       "    }\n",
       "\n",
       "    .dataframe tbody tr th {\n",
       "        vertical-align: top;\n",
       "    }\n",
       "\n",
       "    .dataframe thead th {\n",
       "        text-align: right;\n",
       "    }\n",
       "</style>\n",
       "<table border=\"1\" class=\"dataframe\">\n",
       "  <thead>\n",
       "    <tr style=\"text-align: right;\">\n",
       "      <th></th>\n",
       "      <th>Unnamed: 0</th>\n",
       "      <th>Num_Acc</th>\n",
       "      <th>catr</th>\n",
       "      <th>vosp</th>\n",
       "      <th>vma</th>\n",
       "      <th>jour</th>\n",
       "      <th>an</th>\n",
       "      <th>hrmn</th>\n",
       "      <th>lum</th>\n",
       "      <th>dep</th>\n",
       "      <th>com</th>\n",
       "      <th>int</th>\n",
       "      <th>atm</th>\n",
       "      <th>grav</th>\n",
       "      <th>sexe</th>\n",
       "      <th>an_nais</th>\n",
       "      <th>trajet</th>\n",
       "      <th>secu1</th>\n",
       "      <th>secu2</th>\n",
       "      <th>secu3</th>\n",
       "    </tr>\n",
       "  </thead>\n",
       "  <tbody>\n",
       "    <tr>\n",
       "      <th>0</th>\n",
       "      <td>0</td>\n",
       "      <td>202100000001</td>\n",
       "      <td>3</td>\n",
       "      <td>0</td>\n",
       "      <td>80</td>\n",
       "      <td>30</td>\n",
       "      <td>2021</td>\n",
       "      <td>07:32</td>\n",
       "      <td>2</td>\n",
       "      <td>30</td>\n",
       "      <td>30319</td>\n",
       "      <td>1</td>\n",
       "      <td>1</td>\n",
       "      <td>3</td>\n",
       "      <td>1</td>\n",
       "      <td>2000.0</td>\n",
       "      <td>1</td>\n",
       "      <td>0</td>\n",
       "      <td>9</td>\n",
       "      <td>-1</td>\n",
       "    </tr>\n",
       "    <tr>\n",
       "      <th>1</th>\n",
       "      <td>1</td>\n",
       "      <td>202100000006</td>\n",
       "      <td>4</td>\n",
       "      <td>0</td>\n",
       "      <td>50</td>\n",
       "      <td>23</td>\n",
       "      <td>2021</td>\n",
       "      <td>11:10</td>\n",
       "      <td>1</td>\n",
       "      <td>68</td>\n",
       "      <td>68004</td>\n",
       "      <td>3</td>\n",
       "      <td>1</td>\n",
       "      <td>4</td>\n",
       "      <td>1</td>\n",
       "      <td>2009.0</td>\n",
       "      <td>2</td>\n",
       "      <td>0</td>\n",
       "      <td>-1</td>\n",
       "      <td>-1</td>\n",
       "    </tr>\n",
       "    <tr>\n",
       "      <th>2</th>\n",
       "      <td>2</td>\n",
       "      <td>202100000038</td>\n",
       "      <td>4</td>\n",
       "      <td>0</td>\n",
       "      <td>50</td>\n",
       "      <td>2</td>\n",
       "      <td>2021</td>\n",
       "      <td>11:00</td>\n",
       "      <td>1</td>\n",
       "      <td>71</td>\n",
       "      <td>71540</td>\n",
       "      <td>1</td>\n",
       "      <td>1</td>\n",
       "      <td>3</td>\n",
       "      <td>1</td>\n",
       "      <td>2001.0</td>\n",
       "      <td>5</td>\n",
       "      <td>-1</td>\n",
       "      <td>-1</td>\n",
       "      <td>-1</td>\n",
       "    </tr>\n",
       "    <tr>\n",
       "      <th>3</th>\n",
       "      <td>3</td>\n",
       "      <td>202100000051</td>\n",
       "      <td>4</td>\n",
       "      <td>0</td>\n",
       "      <td>50</td>\n",
       "      <td>9</td>\n",
       "      <td>2021</td>\n",
       "      <td>23:30</td>\n",
       "      <td>5</td>\n",
       "      <td>31</td>\n",
       "      <td>31555</td>\n",
       "      <td>9</td>\n",
       "      <td>1</td>\n",
       "      <td>1</td>\n",
       "      <td>-1</td>\n",
       "      <td>1992.0</td>\n",
       "      <td>-1</td>\n",
       "      <td>-1</td>\n",
       "      <td>-1</td>\n",
       "      <td>-1</td>\n",
       "    </tr>\n",
       "    <tr>\n",
       "      <th>4</th>\n",
       "      <td>4</td>\n",
       "      <td>202100000070</td>\n",
       "      <td>4</td>\n",
       "      <td>-1</td>\n",
       "      <td>-1</td>\n",
       "      <td>4</td>\n",
       "      <td>2021</td>\n",
       "      <td>17:31</td>\n",
       "      <td>1</td>\n",
       "      <td>60</td>\n",
       "      <td>60057</td>\n",
       "      <td>1</td>\n",
       "      <td>1</td>\n",
       "      <td>4</td>\n",
       "      <td>1</td>\n",
       "      <td>2005.0</td>\n",
       "      <td>-1</td>\n",
       "      <td>0</td>\n",
       "      <td>-1</td>\n",
       "      <td>-1</td>\n",
       "    </tr>\n",
       "    <tr>\n",
       "      <th>...</th>\n",
       "      <td>...</td>\n",
       "      <td>...</td>\n",
       "      <td>...</td>\n",
       "      <td>...</td>\n",
       "      <td>...</td>\n",
       "      <td>...</td>\n",
       "      <td>...</td>\n",
       "      <td>...</td>\n",
       "      <td>...</td>\n",
       "      <td>...</td>\n",
       "      <td>...</td>\n",
       "      <td>...</td>\n",
       "      <td>...</td>\n",
       "      <td>...</td>\n",
       "      <td>...</td>\n",
       "      <td>...</td>\n",
       "      <td>...</td>\n",
       "      <td>...</td>\n",
       "      <td>...</td>\n",
       "      <td>...</td>\n",
       "    </tr>\n",
       "    <tr>\n",
       "      <th>14970</th>\n",
       "      <td>14970</td>\n",
       "      <td>201900058721</td>\n",
       "      <td>9</td>\n",
       "      <td>1</td>\n",
       "      <td>50</td>\n",
       "      <td>30</td>\n",
       "      <td>2019</td>\n",
       "      <td>18:15</td>\n",
       "      <td>5</td>\n",
       "      <td>69</td>\n",
       "      <td>69387</td>\n",
       "      <td>1</td>\n",
       "      <td>1</td>\n",
       "      <td>4</td>\n",
       "      <td>1</td>\n",
       "      <td>1991.0</td>\n",
       "      <td>1</td>\n",
       "      <td>8</td>\n",
       "      <td>0</td>\n",
       "      <td>-1</td>\n",
       "    </tr>\n",
       "    <tr>\n",
       "      <th>14971</th>\n",
       "      <td>14971</td>\n",
       "      <td>201900058727</td>\n",
       "      <td>4</td>\n",
       "      <td>1</td>\n",
       "      <td>50</td>\n",
       "      <td>30</td>\n",
       "      <td>2019</td>\n",
       "      <td>18:30</td>\n",
       "      <td>5</td>\n",
       "      <td>69</td>\n",
       "      <td>69389</td>\n",
       "      <td>1</td>\n",
       "      <td>1</td>\n",
       "      <td>4</td>\n",
       "      <td>1</td>\n",
       "      <td>1999.0</td>\n",
       "      <td>0</td>\n",
       "      <td>8</td>\n",
       "      <td>0</td>\n",
       "      <td>-1</td>\n",
       "    </tr>\n",
       "    <tr>\n",
       "      <th>14972</th>\n",
       "      <td>14972</td>\n",
       "      <td>201900058778</td>\n",
       "      <td>4</td>\n",
       "      <td>0</td>\n",
       "      <td>50</td>\n",
       "      <td>30</td>\n",
       "      <td>2019</td>\n",
       "      <td>17:25</td>\n",
       "      <td>5</td>\n",
       "      <td>75</td>\n",
       "      <td>75112</td>\n",
       "      <td>2</td>\n",
       "      <td>1</td>\n",
       "      <td>4</td>\n",
       "      <td>1</td>\n",
       "      <td>1986.0</td>\n",
       "      <td>1</td>\n",
       "      <td>2</td>\n",
       "      <td>8</td>\n",
       "      <td>-1</td>\n",
       "    </tr>\n",
       "    <tr>\n",
       "      <th>14973</th>\n",
       "      <td>14973</td>\n",
       "      <td>201900058782</td>\n",
       "      <td>4</td>\n",
       "      <td>1</td>\n",
       "      <td>50</td>\n",
       "      <td>30</td>\n",
       "      <td>2019</td>\n",
       "      <td>14:15</td>\n",
       "      <td>1</td>\n",
       "      <td>75</td>\n",
       "      <td>75104</td>\n",
       "      <td>1</td>\n",
       "      <td>1</td>\n",
       "      <td>4</td>\n",
       "      <td>1</td>\n",
       "      <td>1950.0</td>\n",
       "      <td>3</td>\n",
       "      <td>8</td>\n",
       "      <td>2</td>\n",
       "      <td>-1</td>\n",
       "    </tr>\n",
       "    <tr>\n",
       "      <th>14974</th>\n",
       "      <td>14974</td>\n",
       "      <td>201900058819</td>\n",
       "      <td>3</td>\n",
       "      <td>0</td>\n",
       "      <td>80</td>\n",
       "      <td>1</td>\n",
       "      <td>2019</td>\n",
       "      <td>07:20</td>\n",
       "      <td>1</td>\n",
       "      <td>973</td>\n",
       "      <td>97309</td>\n",
       "      <td>1</td>\n",
       "      <td>1</td>\n",
       "      <td>2</td>\n",
       "      <td>1</td>\n",
       "      <td>2004.0</td>\n",
       "      <td>5</td>\n",
       "      <td>0</td>\n",
       "      <td>-1</td>\n",
       "      <td>-1</td>\n",
       "    </tr>\n",
       "  </tbody>\n",
       "</table>\n",
       "<p>14975 rows × 20 columns</p>\n",
       "</div>"
      ],
      "text/plain": [
       "       Unnamed: 0       Num_Acc  catr  vosp  vma  jour    an   hrmn  lum  dep  \\\n",
       "0               0  202100000001     3     0   80    30  2021  07:32    2   30   \n",
       "1               1  202100000006     4     0   50    23  2021  11:10    1   68   \n",
       "2               2  202100000038     4     0   50     2  2021  11:00    1   71   \n",
       "3               3  202100000051     4     0   50     9  2021  23:30    5   31   \n",
       "4               4  202100000070     4    -1   -1     4  2021  17:31    1   60   \n",
       "...           ...           ...   ...   ...  ...   ...   ...    ...  ...  ...   \n",
       "14970       14970  201900058721     9     1   50    30  2019  18:15    5   69   \n",
       "14971       14971  201900058727     4     1   50    30  2019  18:30    5   69   \n",
       "14972       14972  201900058778     4     0   50    30  2019  17:25    5   75   \n",
       "14973       14973  201900058782     4     1   50    30  2019  14:15    1   75   \n",
       "14974       14974  201900058819     3     0   80     1  2019  07:20    1  973   \n",
       "\n",
       "         com  int  atm  grav  sexe  an_nais  trajet  secu1  secu2  secu3  \n",
       "0      30319    1    1     3     1   2000.0       1      0      9     -1  \n",
       "1      68004    3    1     4     1   2009.0       2      0     -1     -1  \n",
       "2      71540    1    1     3     1   2001.0       5     -1     -1     -1  \n",
       "3      31555    9    1     1    -1   1992.0      -1     -1     -1     -1  \n",
       "4      60057    1    1     4     1   2005.0      -1      0     -1     -1  \n",
       "...      ...  ...  ...   ...   ...      ...     ...    ...    ...    ...  \n",
       "14970  69387    1    1     4     1   1991.0       1      8      0     -1  \n",
       "14971  69389    1    1     4     1   1999.0       0      8      0     -1  \n",
       "14972  75112    2    1     4     1   1986.0       1      2      8     -1  \n",
       "14973  75104    1    1     4     1   1950.0       3      8      2     -1  \n",
       "14974  97309    1    1     2     1   2004.0       5      0     -1     -1  \n",
       "\n",
       "[14975 rows x 20 columns]"
      ]
     },
     "execution_count": 84,
     "metadata": {},
     "output_type": "execute_result"
    }
   ],
   "source": [
    "df"
   ]
  },
  {
   "cell_type": "markdown",
   "id": "cf523cc5",
   "metadata": {},
   "source": [
    "# Viz à faire \n",
    "\n",
    "Agathe : \n",
    "- nb d'accidents selon météo \n",
    "- répartition accidents selon age / sexe\n",
    "- répartition accidents selon catégorie de route \n",
    "- gravité de l'accident en fonction de la vitesse (histogramme ?)\n",
    "\n",
    "Lucie : \n",
    "- evolution du nombre de casques portés depuis 2019 VS evolution nombre accident \n",
    "- gravité accident en fonction du nombre de casque (histogramme ?)\n",
    "- nb d'accident selon luminosité \n",
    "- répartition des accidents dans la journée \n"
   ]
  },
  {
   "cell_type": "markdown",
   "id": "ae464ede",
   "metadata": {},
   "source": [
    "### Répartition du nombre d'accidents par catégorie de route"
   ]
  },
  {
   "cell_type": "code",
   "execution_count": 85,
   "id": "03c7d52a",
   "metadata": {},
   "outputs": [],
   "source": [
    "df['catr'].replace({1: 'Autoroute', 2: 'Route nationale', 3: 'Route Départementale', 4: 'Voie Communale', 5: 'Hors réseau public', 6: 'Parc de stationnement', 7: 'Routes de métropole urbaine', 9: 'Autres'}, inplace = True)\n",
    "acc_by_cat = df[['Num_Acc', 'catr']].groupby(by = ['catr']).count()\n",
    "acc_by_cat['percent'] = (acc_by_cat['Num_Acc'] / acc_by_cat['Num_Acc'].sum()) * 100"
   ]
  },
  {
   "cell_type": "code",
   "execution_count": 86,
   "id": "9b998b30",
   "metadata": {},
   "outputs": [
    {
     "data": {
      "image/png": "[encoded data removed]",
      "text/plain": [
       "<Figure size 432x288 with 1 Axes>"
      ]
     },
     "metadata": {
      "needs_background": "light"
     },
     "output_type": "display_data"
    }
   ],
   "source": [
    "plt.bar(acc_by_cat.index, acc_by_cat['percent'])\n",
    "plt.title(\"Répartition des accidents selon la catégorie de route\")\n",
    "plt.xlabel(\"Type de route\")\n",
    "plt.ylabel(\"Pourcentage d'accidents\")\n",
    "plt.tick_params(axis='x', labelrotation=80)"
   ]
  },
  {
   "cell_type": "markdown",
   "id": "deb68357",
   "metadata": {},
   "source": [
    "### Répartition des accidents selon la météo "
   ]
  },
  {
   "cell_type": "code",
   "execution_count": 87,
   "id": "a8cc8edf",
   "metadata": {},
   "outputs": [],
   "source": [
    "df['atm'].replace({-1 : 'Non renseigné', 1: 'Normale', 2: 'Pluie légère', 3: 'Pluie forte', 4: 'Neige - grêle', 5: 'Brouillard - fumée', 6: 'Vent fort - tempête', 7: 'Temps éblouissant', 8: 'Temps couvert', 9: 'Autres'}, inplace = True)\n",
    "acc_by_atm = df[['Num_Acc', 'atm']].groupby(by = ['atm']).count()\n",
    "acc_by_atm['percent'] = (acc_by_atm['Num_Acc'] / acc_by_atm['Num_Acc'].sum()) * 100"
   ]
  },
  {
   "cell_type": "code",
   "execution_count": 88,
   "id": "dc98ceac",
   "metadata": {},
   "outputs": [
    {
     "data": {
      "image/png": "[encoded data removed]",
      "text/plain": [
       "<Figure size 432x288 with 1 Axes>"
      ]
     },
     "metadata": {
      "needs_background": "light"
     },
     "output_type": "display_data"
    }
   ],
   "source": [
    "plt.bar(acc_by_atm.index, acc_by_atm['percent'])\n",
    "plt.title(\"Répartition des accidents selon la météo\")\n",
    "plt.xlabel('Météo')\n",
    "plt.ylabel(\"Pourcentage d'accidents\")\n",
    "plt.tick_params(axis='x', labelrotation=80)"
   ]
  },
  {
   "cell_type": "markdown",
   "id": "18eaeaab",
   "metadata": {},
   "source": [
    "### Répartition des accidents selon l'âge et le sexe "
   ]
  },
  {
   "cell_type": "code",
   "execution_count": 89,
   "id": "084fd675",
   "metadata": {},
   "outputs": [],
   "source": [
    "# feature engineering : ajouter age \n",
    "year = datetime.date.today().year\n",
    "df['age'] = df['an_nais'].apply(lambda x : year - x)"
   ]
  },
  {
   "cell_type": "code",
   "execution_count": 90,
   "id": "31f1cdd5",
   "metadata": {},
   "outputs": [],
   "source": [
    "acc_by_age = df[['Num_Acc', 'age']].groupby(by = ['age']).count()\n",
    "acc_by_age['percent'] = (acc_by_age['Num_Acc'] / acc_by_age['Num_Acc'].sum()) * 100"
   ]
  },
  {
   "cell_type": "code",
   "execution_count": 91,
   "id": "c85bd4c2",
   "metadata": {},
   "outputs": [],
   "source": [
    "df['sexe'].replace({-1 : 'Non renseigné', 1: 'Masculin', 2: 'Féminin'}, inplace = True)\n",
    "acc_by_sex = df[['Num_Acc', 'sexe']].groupby(by = ['sexe']).count()\n",
    "acc_by_sex['percent'] = (acc_by_sex['Num_Acc'] / acc_by_sex['Num_Acc'].sum()) * 100"
   ]
  },
  {
   "cell_type": "code",
   "execution_count": 92,
   "id": "32498bae",
   "metadata": {},
   "outputs": [
    {
     "data": {
      "image/png": "[encoded data removed]",
      "text/plain": [
       "<Figure size 432x288 with 2 Axes>"
      ]
     },
     "metadata": {
      "needs_background": "light"
     },
     "output_type": "display_data"
    }
   ],
   "source": [
    "fig, ax_array = plt.subplots(2, 1, squeeze = True,constrained_layout=True)\n",
    "ax_array[0].bar(acc_by_age.index,acc_by_age['percent'])\n",
    "ax_array[0].set_xlabel('âge')\n",
    "ax_array[0].set_ylabel(\"pourcentage d'accidents\")\n",
    "ax_array[0].set_title(\"Nombre d'accidents selon l'âge\")\n",
    "ax_array[1].bar(acc_by_sex.index,acc_by_sex['percent'])\n",
    "ax_array[1].set_title(\"Nombre d'accidents selon le sexe\")\n",
    "ax_array[1].set_xlabel('sexe')\n",
    "ax_array[1].set_ylabel(\"pourcentage d'accidents\")\n",
    "plt.show()"
   ]
  },
  {
   "cell_type": "markdown",
   "id": "614c760d",
   "metadata": {},
   "source": [
    "### Répartition des accidents selon la vitesse maximale autorisée "
   ]
  },
  {
   "cell_type": "code",
   "execution_count": 93,
   "id": "7692fd33",
   "metadata": {},
   "outputs": [],
   "source": [
    "df['vma'].replace([-1, 1, 2, 3, 4, 5, 6, 7, 8, 9, 10, 12, 15], value = 20, inplace = True)\n",
    "df['vma'].replace([110, 120, 180, 300, 500, 600], value = 90, inplace = True)"
   ]
  },
  {
   "cell_type": "code",
   "execution_count": 94,
   "id": "826d3680",
   "metadata": {},
   "outputs": [],
   "source": [
    "acc_by_vma = df[['Num_Acc', 'vma']].groupby(by = ['vma']).count()\n",
    "acc_by_vma['percent'] = (acc_by_vma['Num_Acc'] / acc_by_vma['Num_Acc'].sum()) * 100"
   ]
  },
  {
   "cell_type": "code",
   "execution_count": 95,
   "id": "e7a6a91e",
   "metadata": {},
   "outputs": [
    {
     "data": {
      "image/png": "[encoded data removed]",
      "text/plain": [
       "<Figure size 432x288 with 1 Axes>"
      ]
     },
     "metadata": {
      "needs_background": "light"
     },
     "output_type": "display_data"
    }
   ],
   "source": [
    "plt.bar(acc_by_vma.index, acc_by_vma['percent'], width = 5)\n",
    "plt.title(\"Répartition des accidents selon la vitesse maximale autorisée\")\n",
    "plt.xlabel('vma')\n",
    "plt.ylabel(\"Pourcentage d'accidents\")\n",
    "plt.tick_params(axis='x', labelrotation=80)"
   ]
  },
  {
   "cell_type": "markdown",
   "id": "3f9a5d8a",
   "metadata": {},
   "source": [
    "## Répartition des accidents selon le casque "
   ]
  },
  {
   "cell_type": "code",
   "execution_count": 96,
   "id": "39d9f01c",
   "metadata": {},
   "outputs": [
    {
     "name": "stderr",
     "output_type": "stream",
     "text": [
      "/var/folders/d5/kqjp2_sd2bs4yr709x7mfz3w0000gn/T/ipykernel_98581/4053461377.py:5: SettingWithCopyWarning: \n",
      "A value is trying to be set on a copy of a slice from a DataFrame\n",
      "\n",
      "See the caveats in the documentation: https://pandas.pydata.org/pandas-docs/stable/user_guide/indexing.html#returning-a-view-versus-a-copy\n",
      "  df.casque[i]=1\n"
     ]
    }
   ],
   "source": [
    "df['casque']=0\n",
    "\n",
    "for i in range(len(df)):\n",
    "    if df.secu1[i]==2 or df.secu2[i]==2 or df.secu3[i]==2:\n",
    "        df.casque[i]=1\n",
    "    "
   ]
  },
  {
   "cell_type": "code",
   "execution_count": 97,
   "id": "c9d5a3f5",
   "metadata": {},
   "outputs": [],
   "source": [
    "df=df[df.grav!=-1]"
   ]
  },
  {
   "cell_type": "code",
   "execution_count": 98,
   "id": "fc392e26",
   "metadata": {},
   "outputs": [
    {
     "name": "stderr",
     "output_type": "stream",
     "text": [
      "/Library/Frameworks/Python.framework/Versions/3.9/lib/python3.9/site-packages/pandas/core/generic.py:6619: SettingWithCopyWarning: \n",
      "A value is trying to be set on a copy of a slice from a DataFrame\n",
      "\n",
      "See the caveats in the documentation: https://pandas.pydata.org/pandas-docs/stable/user_guide/indexing.html#returning-a-view-versus-a-copy\n",
      "  return self._update_inplace(result)\n"
     ]
    }
   ],
   "source": [
    "df.grav.replace({1:\"Indemne\",2:\"Tué\",3:\"Blessé hospitalisé\",4:\"Blessé léger\"}, inplace=True)\n",
    "df.casque.replace({0:\"Sans casque\",1:\"Avec casque\"}, inplace=True)"
   ]
  },
  {
   "cell_type": "code",
   "execution_count": 99,
   "id": "da0a602a",
   "metadata": {},
   "outputs": [
    {
     "data": {
      "image/png": "[encoded data removed]",
      "text/plain": [
       "<Figure size 432x288 with 1 Axes>"
      ]
     },
     "metadata": {
      "needs_background": "light"
     },
     "output_type": "display_data"
    }
   ],
   "source": [
    "import numpy as np\n",
    "import matplotlib.pyplot as plt\n",
    "#Graphe montrant gravité des accidents en fonction du port du masque \n",
    "\n",
    "g = df.groupby('casque')\n",
    "c_sans_casque = g.get_group(\"Sans casque\")['grav'].value_counts()\n",
    "c_avec_casque = g.get_group(\"Avec casque\")['grav'].value_counts()\n",
    "\n",
    "c_sans_casque=100*c_sans_casque/(c_sans_casque.sum())\n",
    "c_avec_casque=100*c_avec_casque/(c_avec_casque.sum())\n",
    "\n",
    "\n",
    "# On extrait les noms des différents gravité d'accidents et des différe\n",
    "gravite = df['grav'].value_counts().index\n",
    "port_casque = df['casque'].value_counts().index\n",
    "pos = np.arange(len(gravite))\n",
    "width = 0.35  # épaisseur de chaque bâton\n",
    "\n",
    "\n",
    "# Création du diagramme en bâtons (bâtons côte à côte)\n",
    "\n",
    "plt.bar(pos - width/2, c_sans_casque, width, color='lightsteelblue')\n",
    "plt.bar(pos + width/2,c_avec_casque, width, color='IndianRed')\n",
    "plt.xticks(pos, gravite)\n",
    "plt.xlabel('Gravité', fontsize=14)\n",
    "plt.ylabel('Pourcentage par catégorie')\n",
    "plt.title('Répartition des gravité des accidents de vélos en fonction du port du casque ',fontsize=15)\n",
    "plt.legend(port_casque,loc=1)\n",
    "plt.show()"
   ]
  },
  {
   "cell_type": "markdown",
   "id": "03db4095",
   "metadata": {},
   "source": [
    "## Répartition des accidents au cours de la journée"
   ]
  },
  {
   "cell_type": "code",
   "execution_count": 100,
   "id": "f4446e33",
   "metadata": {},
   "outputs": [
    {
     "name": "stderr",
     "output_type": "stream",
     "text": [
      "/Library/Frameworks/Python.framework/Versions/3.9/lib/python3.9/site-packages/pandas/core/generic.py:5516: SettingWithCopyWarning: \n",
      "A value is trying to be set on a copy of a slice from a DataFrame.\n",
      "Try using .loc[row_indexer,col_indexer] = value instead\n",
      "\n",
      "See the caveats in the documentation: https://pandas.pydata.org/pandas-docs/stable/user_guide/indexing.html#returning-a-view-versus-a-copy\n",
      "  self[name] = value\n",
      "/var/folders/d5/kqjp2_sd2bs4yr709x7mfz3w0000gn/T/ipykernel_98581/1385101623.py:2: SettingWithCopyWarning: \n",
      "A value is trying to be set on a copy of a slice from a DataFrame.\n",
      "Try using .loc[row_indexer,col_indexer] = value instead\n",
      "\n",
      "See the caveats in the documentation: https://pandas.pydata.org/pandas-docs/stable/user_guide/indexing.html#returning-a-view-versus-a-copy\n",
      "  df['heure']= df.hrmn.dt.hour\n"
     ]
    },
    {
     "data": {
      "text/plain": [
       "0         7\n",
       "1        11\n",
       "2        11\n",
       "3        23\n",
       "4        17\n",
       "         ..\n",
       "14970    18\n",
       "14971    18\n",
       "14972    17\n",
       "14973    14\n",
       "14974     7\n",
       "Name: heure, Length: 14974, dtype: int64"
      ]
     },
     "execution_count": 100,
     "metadata": {},
     "output_type": "execute_result"
    }
   ],
   "source": [
    "df.hrmn=pd.to_datetime(df.hrmn)\n",
    "df['heure']= df.hrmn.dt.hour\n",
    "df.heure"
   ]
  },
  {
   "cell_type": "code",
   "execution_count": 101,
   "id": "87efb8d2",
   "metadata": {},
   "outputs": [],
   "source": [
    "d=df[['heure','vma']].groupby('heure').count()"
   ]
  },
  {
   "cell_type": "code",
   "execution_count": 102,
   "id": "c1e653f3",
   "metadata": {},
   "outputs": [
    {
     "data": {
      "text/plain": [
       "<AxesSubplot:xlabel='heure'>"
      ]
     },
     "execution_count": 102,
     "metadata": {},
     "output_type": "execute_result"
    },
    {
     "data": {
      "image/png": "[encoded data removed]",
      "text/plain": [
       "<Figure size 432x288 with 1 Axes>"
      ]
     },
     "metadata": {
      "needs_background": "light"
     },
     "output_type": "display_data"
    }
   ],
   "source": [
    "d.plot()"
   ]
  },
  {
   "cell_type": "markdown",
   "id": "f5295b0a",
   "metadata": {},
   "source": [
    "## Impact de la luminosité"
   ]
  },
  {
   "cell_type": "code",
   "execution_count": 103,
   "id": "cbe83987",
   "metadata": {},
   "outputs": [
    {
     "name": "stderr",
     "output_type": "stream",
     "text": [
      "/Library/Frameworks/Python.framework/Versions/3.9/lib/python3.9/site-packages/pandas/core/generic.py:6619: SettingWithCopyWarning: \n",
      "A value is trying to be set on a copy of a slice from a DataFrame\n",
      "\n",
      "See the caveats in the documentation: https://pandas.pydata.org/pandas-docs/stable/user_guide/indexing.html#returning-a-view-versus-a-copy\n",
      "  return self._update_inplace(result)\n"
     ]
    }
   ],
   "source": [
    "df.lum.replace({1 :\"Plein jour\",2 :\"Crépuscule ou aube\",3 : \"Nuit sans éclairage public\",4 :\"Nuit avec éclairage public non allumé\", 5 : \"Nuit avec éclairage public allumé\"}, inplace=True)\n"
   ]
  },
  {
   "cell_type": "code",
   "execution_count": null,
   "id": "bdb7d240",
   "metadata": {},
   "outputs": [],
   "source": [
    "import numpy as np\n",
    "import matplotlib.pyplot as plt\n",
    "#Graphe montrant gravité des accidents en fonction du port du masque \n",
    "\n",
    "g = df.groupby('')\n",
    "c_sans_casque = g.get_group(\"Sans casque\")['grav'].value_counts()\n",
    "c_avec_casque = g.get_group(\"Avec casque\")['grav'].value_counts()\n",
    "\n",
    "c_sans_casque=100*c_sans_casque/(c_sans_casque.sum())\n",
    "c_avec_casque=100*c_avec_casque/(c_avec_casque.sum())\n",
    "\n",
    "\n",
    "# On extrait les noms des différents gravité d'accidents et des différe\n",
    "gravite = df['grav'].value_counts().index\n",
    "port_casque = df['casque'].value_counts().index\n",
    "pos = np.arange(len(gravite))\n",
    "width = 0.35  # épaisseur de chaque bâton\n",
    "\n",
    "\n",
    "# Création du diagramme en bâtons (bâtons côte à côte)\n",
    "\n",
    "plt.bar(pos - width/2, c_sans_casque, width, color='lightsteelblue')\n",
    "plt.bar(pos + width/2,c_avec_casque, width, color='IndianRed')\n",
    "plt.xticks(pos, gravite)\n",
    "plt.xlabel('Gravité', fontsize=14)\n",
    "plt.ylabel('Pourcentage par catégorie')\n",
    "plt.title('Répartition des gravité des accidents de vélos en fonction du port du casque ',fontsize=15)\n",
    "plt.legend(port_casque,loc=1)\n",
    "plt.show()"
   ]
  },
  {
   "cell_type": "code",
   "execution_count": 104,
   "id": "301f3ec5",
   "metadata": {},
   "outputs": [],
   "source": [
    "acc_by_lum = df[['Num_Acc', 'lum']].groupby(by = ['lum']).count()\n",
    "acc_by_lum['percent'] = (acc_by_lum['Num_Acc'] / acc_by_lum['Num_Acc'].sum()) * 100"
   ]
  },
  {
   "cell_type": "code",
   "execution_count": 106,
   "id": "64eb2c20",
   "metadata": {},
   "outputs": [
    {
     "data": {
      "text/html": [
       "<div>\n",
       "<style scoped>\n",
       "    .dataframe tbody tr th:only-of-type {\n",
       "        vertical-align: middle;\n",
       "    }\n",
       "\n",
       "    .dataframe tbody tr th {\n",
       "        vertical-align: top;\n",
       "    }\n",
       "\n",
       "    .dataframe thead th {\n",
       "        text-align: right;\n",
       "    }\n",
       "</style>\n",
       "<table border=\"1\" class=\"dataframe\">\n",
       "  <thead>\n",
       "    <tr style=\"text-align: right;\">\n",
       "      <th></th>\n",
       "      <th>Num_Acc</th>\n",
       "      <th>percent</th>\n",
       "    </tr>\n",
       "    <tr>\n",
       "      <th>lum</th>\n",
       "      <th></th>\n",
       "      <th></th>\n",
       "    </tr>\n",
       "  </thead>\n",
       "  <tbody>\n",
       "    <tr>\n",
       "      <th>Crépuscule ou aube</th>\n",
       "      <td>871</td>\n",
       "      <td>5.816749</td>\n",
       "    </tr>\n",
       "    <tr>\n",
       "      <th>Nuit avec éclairage public allumé</th>\n",
       "      <td>1786</td>\n",
       "      <td>11.927341</td>\n",
       "    </tr>\n",
       "    <tr>\n",
       "      <th>Nuit avec éclairage public non allumé</th>\n",
       "      <td>62</td>\n",
       "      <td>0.414051</td>\n",
       "    </tr>\n",
       "    <tr>\n",
       "      <th>Nuit sans éclairage public</th>\n",
       "      <td>363</td>\n",
       "      <td>2.424202</td>\n",
       "    </tr>\n",
       "    <tr>\n",
       "      <th>Plein jour</th>\n",
       "      <td>11892</td>\n",
       "      <td>79.417657</td>\n",
       "    </tr>\n",
       "  </tbody>\n",
       "</table>\n",
       "</div>"
      ],
      "text/plain": [
       "                                       Num_Acc    percent\n",
       "lum                                                      \n",
       "Crépuscule ou aube                         871   5.816749\n",
       "Nuit avec éclairage public allumé         1786  11.927341\n",
       "Nuit avec éclairage public non allumé       62   0.414051\n",
       "Nuit sans éclairage public                 363   2.424202\n",
       "Plein jour                               11892  79.417657"
      ]
     },
     "execution_count": 106,
     "metadata": {},
     "output_type": "execute_result"
    }
   ],
   "source": [
    "acc_by_lum"
   ]
  },
  {
   "cell_type": "code",
   "execution_count": 107,
   "id": "da3e9e83",
   "metadata": {},
   "outputs": [
    {
     "data": {
      "image/png": "[encoded data removed]",
      "text/plain": [
       "<Figure size 432x288 with 1 Axes>"
      ]
     },
     "metadata": {
      "needs_background": "light"
     },
     "output_type": "display_data"
    }
   ],
   "source": [
    "plt.bar(acc_by_lum.index, acc_by_lum['percent'])\n",
    "plt.title(\"Répartition des accidents selon la luminosité\")\n",
    "plt.xlabel('Degré de luminosité')\n",
    "plt.ylabel(\"Pourcentage d'accidents\")\n",
    "plt.tick_params(axis='x', labelrotation=80)"
   ]
  },
  {
   "cell_type": "markdown",
   "id": "b768a1b3",
   "metadata": {},
   "source": [
    "## Type de trajets"
   ]
  },
  {
   "cell_type": "code",
   "execution_count": 108,
   "id": "c89e3185",
   "metadata": {},
   "outputs": [
    {
     "name": "stderr",
     "output_type": "stream",
     "text": [
      "/Library/Frameworks/Python.framework/Versions/3.9/lib/python3.9/site-packages/pandas/core/generic.py:6619: SettingWithCopyWarning: \n",
      "A value is trying to be set on a copy of a slice from a DataFrame\n",
      "\n",
      "See the caveats in the documentation: https://pandas.pydata.org/pandas-docs/stable/user_guide/indexing.html#returning-a-view-versus-a-copy\n",
      "  return self._update_inplace(result)\n"
     ]
    }
   ],
   "source": [
    "df.trajet.replace({-1:\"Non renseigné\",0 :\"Non renseigné\",1:\"Domicile – travail\",2 :\"Domicile – école\",3 :\"Courses – achats\",4 :\"Utilisation professionnelle\",5 :\"Promenade – loisirs\",9 :\"Autre\"}, inplace=True)\n"
   ]
  },
  {
   "cell_type": "code",
   "execution_count": 109,
   "id": "6b986a29",
   "metadata": {},
   "outputs": [],
   "source": [
    "acc_by_trajet = df[['Num_Acc', 'trajet']].groupby(by = ['trajet']).count()\n",
    "acc_by_trajet['percent'] = (acc_by_trajet['Num_Acc'] / acc_by_trajet['Num_Acc'].sum()) * 100"
   ]
  },
  {
   "cell_type": "code",
   "execution_count": 110,
   "id": "2482987b",
   "metadata": {},
   "outputs": [
    {
     "data": {
      "image/png": "[encoded data removed]",
      "text/plain": [
       "<Figure size 432x288 with 1 Axes>"
      ]
     },
     "metadata": {
      "needs_background": "light"
     },
     "output_type": "display_data"
    }
   ],
   "source": [
    "plt.bar(acc_by_trajet.index, acc_by_trajet['percent'])\n",
    "plt.title(\"Répartition des accidents selon le type de trajet\")\n",
    "plt.xlabel('Type de trajets')\n",
    "plt.ylabel(\"Pourcentage d'accidents\")\n",
    "plt.tick_params(axis='x', labelrotation=80)"
   ]
  },
  {
   "cell_type": "code",
   "execution_count": null,
   "id": "da999606",
   "metadata": {},
   "outputs": [],
   "source": []
  }
 ],
 "metadata": {
  "kernelspec": {
   "display_name": "Python 3 (ipykernel)",
   "language": "python",
   "name": "python3"
  },
  "language_info": {
   "codemirror_mode": {
    "name": "ipython",
    "version": 3
   },
   "file_extension": ".py",
   "mimetype": "text/x-python",
   "name": "python",
   "nbconvert_exporter": "python",
   "pygments_lexer": "ipython3",
   "version": "3.9.6"
  },
  "vscode": {
   "interpreter": {
    "hash": "6e56ab81a5073f8be0c8863bdadf11245a4bf845f133410a9a98984b687ba535"
   }
  }
 },
 "nbformat": 4,
 "nbformat_minor": 5
}
